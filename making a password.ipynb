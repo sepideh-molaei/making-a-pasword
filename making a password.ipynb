{
 "cells": [
  {
   "cell_type": "code",
   "execution_count": null,
   "id": "e747ffa6",
   "metadata": {},
   "outputs": [],
   "source": [
    "import numpy as np\n",
    "import random\n",
    "random.seed()\n",
    "from random import randint"
   ]
  },
  {
   "cell_type": "code",
   "execution_count": null,
   "id": "cb5c32d6",
   "metadata": {},
   "outputs": [],
   "source": [
    "length = int (input(\" How length the password should be?  \\n\"))\n",
    "pasword = []\n",
    "small_char = 'qwertyuiopasdfghjklzxcvbnm'\n",
    "Capital_char='QWERTYUIOPASDFGHJKLZXCVBNM'\n",
    "symbol = \"!@#$%^&*()?|\\{}[]_-.\"\n",
    "number = \"0123456789\"\n",
    "\n",
    "\n",
    "while True:\n",
    "  b = random.sample(small_char,1)\n",
    "  pasword.append(b[0])\n",
    "  if len(pasword) == length:\n",
    "    break\n",
    "  b = random.sample(Capital_char,1)\n",
    "  pasword.append(b[0])\n",
    "  if len(pasword) == length:\n",
    "    break\n",
    "  b = random.sample(symbol,1)\n",
    "  pasword.append(b[0])\n",
    "  if len(pasword) == length:\n",
    "    break\n",
    "  b = random.sample(number,1)\n",
    "  pasword.append(b[0])  \n",
    "  if len(pasword) == length:\n",
    "    break\n",
    " \n",
    "random.shuffle(pasword)\n",
    "pasword =''.join(pasword)       \n",
    "print(pasword)\n",
    "\n"
   ]
  },
  {
   "cell_type": "code",
   "execution_count": null,
   "id": "515dd138",
   "metadata": {},
   "outputs": [],
   "source": []
  },
  {
   "cell_type": "code",
   "execution_count": null,
   "id": "1e5d7782",
   "metadata": {},
   "outputs": [],
   "source": []
  }
 ],
 "metadata": {
  "kernelspec": {
   "display_name": "Python 3 (ipykernel)",
   "language": "python",
   "name": "python3"
  },
  "language_info": {
   "codemirror_mode": {
    "name": "ipython",
    "version": 3
   },
   "file_extension": ".py",
   "mimetype": "text/x-python",
   "name": "python",
   "nbconvert_exporter": "python",
   "pygments_lexer": "ipython3",
   "version": "3.10.6"
  }
 },
 "nbformat": 4,
 "nbformat_minor": 5
}
